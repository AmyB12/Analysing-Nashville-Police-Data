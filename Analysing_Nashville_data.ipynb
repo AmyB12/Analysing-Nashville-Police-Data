{
 "cells": [
  {
   "cell_type": "markdown",
   "id": "ffaa4086",
   "metadata": {},
   "source": [
    "# Analysing Nashville Police Activity Data\n",
    "\n",
    "## Does the gender affect if someone gets stopped by the police?\n",
    "\n",
    "I looked at analysing which gender was stopped more, the reason and which outcomes. "
   ]
  },
  {
   "cell_type": "code",
   "execution_count": 1,
   "id": "930532fb",
   "metadata": {},
   "outputs": [],
   "source": [
    "# Import the packages that I would find useful for this analysis \n",
    "import pandas as pd\n",
    "import numpy as np\n",
    "import seaborn as sns\n",
    "import matplotlib as plt\n",
    "from datetime import date\n",
    "\n",
    "%matplotlib inline"
   ]
  },
  {
   "cell_type": "code",
   "execution_count": 2,
   "id": "d786c0c8",
   "metadata": {},
   "outputs": [
    {
     "name": "stderr",
     "output_type": "stream",
     "text": [
      "/var/folders/jr/q9y2nm4s7fb_r6mkzg214rvm0000gn/T/ipykernel_47895/2519848530.py:5: DtypeWarning: Columns (6,8,15,16,17,22,23,24,25,29,30,31,32,33,35,36,37,38,40,41) have mixed types. Specify dtype option on import or set low_memory=False.\n",
      "  nash_df = pd.read_csv(\"tn_nashville_2020_04_01.csv\")\n"
     ]
    },
    {
     "name": "stdout",
     "output_type": "stream",
     "text": [
      "  raw_row_number                                           location   \n",
      "0         232947  DOMINICAN DR & ROSA L PARKS BLVD, NASHVILLE, T...  \\\n",
      "1         237161            1122 LEBANON PIKE, NASHVILLE, TN, 37210   \n",
      "2         232902                       898 DAVIDSON DR, , TN, 37205   \n",
      "3         233219  MURFREESBORO PIKE & NASHBORO BLVD, ANTIOCH, TN...   \n",
      "4         232780                      BUCHANAN ST, NORTH, TN, 37208   \n",
      "\n",
      "         lat        lng precinct  reporting_area   zone  subject_age   \n",
      "0  36.187925 -86.798519      6.0          4403.0  611.0         27.0  \\\n",
      "1  36.155521 -86.735902      5.0          9035.0  513.0         18.0   \n",
      "2  36.117420 -86.895593      1.0          5005.0  121.0         52.0   \n",
      "3  36.086799 -86.648581      3.0          8891.0  325.0         25.0   \n",
      "4  36.180038 -86.809109      NaN             NaN    NaN         21.0   \n",
      "\n",
      "  subject_race subject_sex  ... raw_misd_state_citation_issued   \n",
      "0        black        male  ...                            NaN  \\\n",
      "1        white        male  ...                            NaN   \n",
      "2        white        male  ...                            NaN   \n",
      "3        white        male  ...                            NaN   \n",
      "4        black        male  ...                            NaN   \n",
      "\n",
      "  raw_suspect_ethnicity raw_driver_searched raw_passenger_searched   \n",
      "0                     N               False                  False  \\\n",
      "1                     N               False                  False   \n",
      "2                     N               False                  False   \n",
      "3                     N               False                  False   \n",
      "4                     N                True                   True   \n",
      "\n",
      "  raw_search_consent raw_search_arrest raw_search_warrant   \n",
      "0              False             False              False  \\\n",
      "1              False             False              False   \n",
      "2              False             False              False   \n",
      "3              False             False              False   \n",
      "4              False             False              False   \n",
      "\n",
      "  raw_search_inventory raw_search_plain_view            datetime  \n",
      "0                False                 False                 NaT  \n",
      "1                False                 False 2010-10-10 10:00:00  \n",
      "2                False                 False 2010-10-10 10:00:00  \n",
      "3                False                 False 2010-10-10 22:00:00  \n",
      "4                False                 False 2010-10-10 01:00:00  \n",
      "\n",
      "[5 rows x 41 columns]\n"
     ]
    }
   ],
   "source": [
    "# Import the dataset retrieved from https://openpolicing.stanford.edu/data/ \n",
    "# Merge the columns date and time and drop the two columns \n",
    "# Show the first 5 rows of the data set\n",
    "\n",
    "nash_df = pd.read_csv(\"tn_nashville_2020_04_01.csv\")\n",
    "nash_df['datetime'] = pd.to_datetime(nash_df['date'] + ' ' + nash_df['time'])\n",
    "nash_df = nash_df.drop(columns = ['date', 'time'], axis = 1)\n",
    "print(nash_df.head())"
   ]
  },
  {
   "cell_type": "markdown",
   "id": "5fe1b8de",
   "metadata": {},
   "source": [
    "I looked into more information of on the data type.\n",
    "- Info was to show the data types of the rows in the colunmns \n",
    "- Describe shows the basic stats of the numerical data \n",
    "- dtype.values_counts counts the number of columns with the same data types "
   ]
  },
  {
   "cell_type": "code",
   "execution_count": 3,
   "id": "aed33c55",
   "metadata": {},
   "outputs": [
    {
     "name": "stdout",
     "output_type": "stream",
     "text": [
      "<class 'pandas.core.frame.DataFrame'>\n",
      "RangeIndex: 3092351 entries, 0 to 3092350\n",
      "Data columns (total 41 columns):\n",
      " #   Column                          Dtype         \n",
      "---  ------                          -----         \n",
      " 0   raw_row_number                  object        \n",
      " 1   location                        object        \n",
      " 2   lat                             float64       \n",
      " 3   lng                             float64       \n",
      " 4   precinct                        object        \n",
      " 5   reporting_area                  float64       \n",
      " 6   zone                            object        \n",
      " 7   subject_age                     float64       \n",
      " 8   subject_race                    object        \n",
      " 9   subject_sex                     object        \n",
      " 10  officer_id_hash                 object        \n",
      " 11  type                            object        \n",
      " 12  violation                       object        \n",
      " 13  arrest_made                     object        \n",
      " 14  citation_issued                 object        \n",
      " 15  warning_issued                  object        \n",
      " 16  outcome                         object        \n",
      " 17  contraband_found                object        \n",
      " 18  contraband_drugs                object        \n",
      " 19  contraband_weapons              object        \n",
      " 20  frisk_performed                 object        \n",
      " 21  search_conducted                object        \n",
      " 22  search_person                   object        \n",
      " 23  search_vehicle                  object        \n",
      " 24  search_basis                    object        \n",
      " 25  reason_for_stop                 object        \n",
      " 26  vehicle_registration_state      object        \n",
      " 27  notes                           object        \n",
      " 28  raw_verbal_warning_issued       object        \n",
      " 29  raw_written_warning_issued      object        \n",
      " 30  raw_traffic_citation_issued     object        \n",
      " 31  raw_misd_state_citation_issued  object        \n",
      " 32  raw_suspect_ethnicity           object        \n",
      " 33  raw_driver_searched             object        \n",
      " 34  raw_passenger_searched          object        \n",
      " 35  raw_search_consent              object        \n",
      " 36  raw_search_arrest               object        \n",
      " 37  raw_search_warrant              bool          \n",
      " 38  raw_search_inventory            object        \n",
      " 39  raw_search_plain_view           object        \n",
      " 40  datetime                        datetime64[ns]\n",
      "dtypes: bool(1), datetime64[ns](1), float64(4), object(35)\n",
      "memory usage: 946.7+ MB\n",
      "None\n",
      "                lat           lng  reporting_area   subject_age   \n",
      "count  2.905245e+06  2.905245e+06    2.759958e+06  3.091512e+06  \\\n",
      "mean   3.614799e+01 -8.676542e+01    7.518015e+03  3.706826e+01   \n",
      "min    3.187930e+01 -1.150753e+02    0.000000e+00  1.000000e+01   \n",
      "25%    3.611093e+01 -8.679440e+01    3.123000e+03  2.600000e+01   \n",
      "50%    3.615383e+01 -8.675724e+01    5.505000e+03  3.400000e+01   \n",
      "75%    3.618463e+01 -8.670854e+01    8.721000e+03  4.700000e+01   \n",
      "max    4.031466e+01 -7.482692e+01    9.510100e+04  9.900000e+01   \n",
      "std    8.692093e-02  4.249168e-01    1.188209e+04  1.408633e+01   \n",
      "\n",
      "                            datetime  \n",
      "count                        3086884  \n",
      "mean   2014-02-06 22:46:31.562545664  \n",
      "min              2010-01-01 00:02:00  \n",
      "25%              2012-02-20 07:44:00  \n",
      "50%              2013-12-15 08:30:00  \n",
      "75%              2015-12-14 20:10:30  \n",
      "max              2019-03-24 23:55:00  \n",
      "std                              NaN  \n",
      "object            35\n",
      "float64            4\n",
      "bool               1\n",
      "datetime64[ns]     1\n",
      "Name: count, dtype: int64\n"
     ]
    }
   ],
   "source": [
    "print(nash_df.info())\n",
    "print(nash_df.describe())\n",
    "print(nash_df.dtypes.value_counts())"
   ]
  },
  {
   "cell_type": "markdown",
   "id": "3acdc339",
   "metadata": {},
   "source": [
    "Due to the question I wanted to answer, I didn't need all the columns provided. I dropped the the following columns:\n",
    "- 'raw_row_number' \n",
    "- 'lat', 'lng', 'precinct', 'date','time','raw_misd_state_citation_issued',\n",
    "- 'reporting_area', 'zone','officer_id_hash', 'outcome', 'contraband_found',\n",
    "- 'contraband_drugs', 'contraband_weapons', 'frisk_performed',\n",
    "- 'search_conducted', 'search_person', 'search_vehicle', 'search_basis','notes',\n",
    "- 'raw_suspect_ethnicity', 'raw_driver_searched',\n",
    "- 'raw_passenger_searched', 'raw_search_consent', 'raw_search_arrest',\n",
    "- 'raw_search_warrant', 'raw_search_inventory', 'raw_search_plain_view'"
   ]
  },
  {
   "cell_type": "code",
   "execution_count": 4,
   "id": "30c0431e",
   "metadata": {},
   "outputs": [],
   "source": [
    "nash_df = nash_df.drop(columns = ['raw_row_number', 'lat', 'lng', 'precinct',\n",
    "                                 'reporting_area', 'zone','officer_id_hash', 'outcome', 'contraband_found',\n",
    "                                 'contraband_drugs', 'contraband_weapons', 'frisk_performed',\n",
    "                                 'search_conducted', 'search_person', 'search_vehicle', 'search_basis','notes',\n",
    "                                 'raw_suspect_ethnicity', 'raw_driver_searched',\n",
    "                                 'raw_passenger_searched', 'raw_search_consent', 'raw_search_arrest',\n",
    "                                 'raw_search_warrant', 'raw_search_inventory', 'raw_search_plain_view', \n",
    "                                   'raw_misd_state_citation_issued'],axis = 1)"
   ]
  },
  {
   "cell_type": "markdown",
   "id": "508c596a",
   "metadata": {},
   "source": [
    "I looked for any missing data present in the data set. The column with the most missing information was raw_written_warning_issued with about 16% missing. Since it was very low I decided to fill the missing categorical information and drop the numerical which was even lower.\n"
   ]
  },
  {
   "cell_type": "code",
   "execution_count": 5,
   "id": "528ac9e3",
   "metadata": {},
   "outputs": [
    {
     "data": {
      "text/plain": [
       "raw_written_warning_issued     0.159455\n",
       "vehicle_registration_state     0.010281\n",
       "subject_sex                    0.004146\n",
       "violation                      0.002593\n",
       "reason_for_stop                0.002593\n",
       "datetime                       0.001768\n",
       "subject_race                   0.000598\n",
       "subject_age                    0.000271\n",
       "warning_issued                 0.000109\n",
       "raw_verbal_warning_issued      0.000109\n",
       "raw_traffic_citation_issued    0.000104\n",
       "citation_issued                0.000103\n",
       "arrest_made                    0.000009\n",
       "location                       0.000000\n",
       "type                           0.000000\n",
       "dtype: float64"
      ]
     },
     "execution_count": 5,
     "metadata": {},
     "output_type": "execute_result"
    }
   ],
   "source": [
    "nash_df.isnull().sum().sort_values(ascending = False)/len(nash_df)"
   ]
  },
  {
   "cell_type": "code",
   "execution_count": 6,
   "id": "43ae97d3",
   "metadata": {},
   "outputs": [
    {
     "name": "stdout",
     "output_type": "stream",
     "text": [
      "Index(['subject_age', 'datetime'], dtype='object')\n",
      "Index(['location', 'subject_race', 'subject_sex', 'type', 'violation',\n",
      "       'arrest_made', 'citation_issued', 'warning_issued', 'reason_for_stop',\n",
      "       'vehicle_registration_state', 'raw_verbal_warning_issued',\n",
      "       'raw_written_warning_issued', 'raw_traffic_citation_issued'],\n",
      "      dtype='object')\n"
     ]
    }
   ],
   "source": [
    "# Separated the data types into numerical and categorical groups \n",
    "numerical = nash_df.columns[nash_df.dtypes != \"object\"]\n",
    "categorical = nash_df.columns[nash_df.dtypes == \"object\"]\n",
    "print(numerical)\n",
    "print(categorical)"
   ]
  },
  {
   "cell_type": "markdown",
   "id": "848cebe4",
   "metadata": {},
   "source": [
    "Found and filled all the categorical data"
   ]
  },
  {
   "cell_type": "code",
   "execution_count": 7,
   "id": "46d690ce",
   "metadata": {},
   "outputs": [
    {
     "data": {
      "text/plain": [
       "raw_written_warning_issued     0.159455\n",
       "vehicle_registration_state     0.010281\n",
       "subject_sex                    0.004146\n",
       "violation                      0.002593\n",
       "reason_for_stop                0.002593\n",
       "subject_race                   0.000598\n",
       "warning_issued                 0.000109\n",
       "raw_verbal_warning_issued      0.000109\n",
       "raw_traffic_citation_issued    0.000104\n",
       "citation_issued                0.000103\n",
       "arrest_made                    0.000009\n",
       "location                       0.000000\n",
       "type                           0.000000\n",
       "dtype: float64"
      ]
     },
     "execution_count": 7,
     "metadata": {},
     "output_type": "execute_result"
    }
   ],
   "source": [
    "nash_df[categorical].isnull().sum().sort_values(ascending = False)/len(nash_df)"
   ]
  },
  {
   "cell_type": "code",
   "execution_count": 8,
   "id": "13b3de58",
   "metadata": {},
   "outputs": [],
   "source": [
    "nash_df[categorical] = nash_df[categorical].fillna(\"No Information\")"
   ]
  },
  {
   "cell_type": "code",
   "execution_count": 10,
   "id": "689d7e57",
   "metadata": {},
   "outputs": [
    {
     "data": {
      "text/plain": [
       "location                       0.0\n",
       "subject_race                   0.0\n",
       "subject_sex                    0.0\n",
       "type                           0.0\n",
       "violation                      0.0\n",
       "arrest_made                    0.0\n",
       "citation_issued                0.0\n",
       "warning_issued                 0.0\n",
       "reason_for_stop                0.0\n",
       "vehicle_registration_state     0.0\n",
       "raw_verbal_warning_issued      0.0\n",
       "raw_written_warning_issued     0.0\n",
       "raw_traffic_citation_issued    0.0\n",
       "dtype: float64"
      ]
     },
     "execution_count": 10,
     "metadata": {},
     "output_type": "execute_result"
    }
   ],
   "source": [
    "nash_df[categorical].isnull().sum().sort_values(ascending = False)/len(nash_df)"
   ]
  },
  {
   "cell_type": "markdown",
   "id": "0a4cde03",
   "metadata": {},
   "source": [
    "Found and filled all the numerical data"
   ]
  },
  {
   "cell_type": "code",
   "execution_count": 11,
   "id": "848c234f",
   "metadata": {},
   "outputs": [
    {
     "data": {
      "text/plain": [
       "datetime       0.001768\n",
       "subject_age    0.000271\n",
       "dtype: float64"
      ]
     },
     "execution_count": 11,
     "metadata": {},
     "output_type": "execute_result"
    }
   ],
   "source": [
    "nash_df[numerical].isnull().sum().sort_values(ascending = False)/ len(nash_df)"
   ]
  },
  {
   "cell_type": "code",
   "execution_count": 12,
   "id": "3434abbf",
   "metadata": {},
   "outputs": [],
   "source": [
    "nash_df.dropna(subset=['datetime', 'subject_age'], how='any', inplace=True)"
   ]
  },
  {
   "cell_type": "code",
   "execution_count": 13,
   "id": "e9cdf0d9",
   "metadata": {},
   "outputs": [
    {
     "data": {
      "text/plain": [
       "subject_age    0.0\n",
       "datetime       0.0\n",
       "dtype: float64"
      ]
     },
     "execution_count": 13,
     "metadata": {},
     "output_type": "execute_result"
    }
   ],
   "source": [
    "nash_df[numerical].isnull().sum().sort_values(ascending = False)/ len(nash_df)"
   ]
  },
  {
   "cell_type": "code",
   "execution_count": 14,
   "id": "78215f4f",
   "metadata": {
    "scrolled": true
   },
   "outputs": [
    {
     "name": "stdout",
     "output_type": "stream",
     "text": [
      "subject_sex\n",
      "male              1823297\n",
      "female            1250216\n",
      "No Information      12535\n",
      "Name: count, dtype: int64\n",
      "type\n",
      "vehicular    3086048\n",
      "Name: count, dtype: int64\n",
      "violation\n",
      "moving traffic violation       1543806\n",
      "vehicle equipment violation     993995\n",
      "safety violation                185765\n",
      "registration                    185534\n",
      "seatbelt violation              103133\n",
      "investigative stop               56350\n",
      "parking violation                 8422\n",
      "No Information                    7934\n",
      "child restraint                   1109\n",
      "Name: count, dtype: int64\n"
     ]
    }
   ],
   "source": [
    "# Look at the different options in the categorical data and the amount of times they occ\n",
    "print(nash_df['subject_sex'].value_counts())\n",
    "print(nash_df['type'].value_counts())\n",
    "print(nash_df['violation'].value_counts())"
   ]
  },
  {
   "cell_type": "markdown",
   "id": "b7ae49bf",
   "metadata": {},
   "source": [
    "This is to show the percentage of males and females recorded\n",
    "- 59.08% is male\n",
    "- 40.51% is female\n",
    "- 0.41% is no information "
   ]
  },
  {
   "cell_type": "code",
   "execution_count": 15,
   "id": "ac2d4bb7",
   "metadata": {},
   "outputs": [
    {
     "name": "stdout",
     "output_type": "stream",
     "text": [
      "subject_sex\n",
      "male              59.081939\n",
      "female            40.511878\n",
      "No Information     0.406183\n",
      "Name: count, dtype: float64\n"
     ]
    }
   ],
   "source": [
    "print((nash_df['subject_sex'].value_counts()/nash_df['subject_sex'].count())*100)"
   ]
  },
  {
   "cell_type": "markdown",
   "id": "687cafd4",
   "metadata": {},
   "source": [
    "### Which gender committed the most violations?\n",
    "- Groupby was used to group the 'subject_sex'based on 'violation' and count the amount of violations made\n",
    "    - Males committed the most violations in Nashville according to the record "
   ]
  },
  {
   "cell_type": "code",
   "execution_count": 16,
   "id": "8d5c5509",
   "metadata": {},
   "outputs": [
    {
     "name": "stdout",
     "output_type": "stream",
     "text": [
      "      subject_sex  violation_count\n",
      "0  No Information            12535\n",
      "1          female          1250216\n",
      "2            male          1823297\n"
     ]
    }
   ],
   "source": [
    "violation_by_gender = nash_df.groupby(['subject_sex']).agg({'violation': ['count']})\n",
    "violation_by_gender.columns = ['violation_count']\n",
    "violation_by_gender = violation_by_gender.reset_index()\n",
    "print(violation_by_gender)"
   ]
  },
  {
   "cell_type": "markdown",
   "id": "5423c64a",
   "metadata": {},
   "source": [
    "### Which violation was committed the most from each genders?\n",
    "- Based on grouping the 'subject_sex'and 'violation' columns and count the each of the violations \n",
    "    - female     moving traffic violation           631911\n",
    "    - male     moving traffic violation           906016\n",
    "    - No Information     moving traffic violation             5879"
   ]
  },
  {
   "cell_type": "code",
   "execution_count": 17,
   "id": "b965f2b7",
   "metadata": {},
   "outputs": [
    {
     "name": "stdout",
     "output_type": "stream",
     "text": [
      "       subject_sex                    violation  violation_count\n",
      "0   No Information               No Information              160\n",
      "1   No Information              child restraint                3\n",
      "2   No Information           investigative stop              310\n",
      "3   No Information     moving traffic violation             5879\n",
      "4   No Information            parking violation              685\n",
      "5   No Information                 registration              805\n",
      "6   No Information             safety violation              920\n",
      "7   No Information           seatbelt violation              350\n",
      "8   No Information  vehicle equipment violation             3423\n",
      "9           female               No Information             3019\n",
      "10          female              child restraint              720\n",
      "11          female           investigative stop            19229\n",
      "12          female     moving traffic violation           631911\n",
      "13          female            parking violation             2986\n",
      "14          female                 registration            76919\n",
      "15          female             safety violation            75044\n",
      "16          female           seatbelt violation            33894\n",
      "17          female  vehicle equipment violation           406494\n",
      "18            male               No Information             4755\n",
      "19            male              child restraint              386\n",
      "20            male           investigative stop            36811\n",
      "21            male     moving traffic violation           906016\n",
      "22            male            parking violation             4751\n",
      "23            male                 registration           107810\n",
      "24            male             safety violation           109801\n",
      "25            male           seatbelt violation            68889\n",
      "26            male  vehicle equipment violation           584078\n"
     ]
    }
   ],
   "source": [
    "violation_by_group = nash_df.groupby(['subject_sex', 'violation']).agg({'violation': ['count']})\n",
    "violation_by_group.columns = ['violation_count']\n",
    "violation_by_group = violation_by_group.reset_index()\n",
    "print(violation_by_group)"
   ]
  },
  {
   "cell_type": "code",
   "execution_count": 18,
   "id": "09e1f996",
   "metadata": {},
   "outputs": [
    {
     "name": "stdout",
     "output_type": "stream",
     "text": [
      "subject_sex                            male\n",
      "violation          moving traffic violation\n",
      "violation_count                      906016\n",
      "Name: 21, dtype: object\n"
     ]
    }
   ],
   "source": [
    "# Showing which gender committed the most violations and which violation they did the most.\n",
    "violation_by_group2 = violation_by_group.loc[violation_by_group['violation_count'].idxmax()]\n",
    "print(violation_by_group2)"
   ]
  },
  {
   "cell_type": "code",
   "execution_count": 19,
   "id": "de618126",
   "metadata": {},
   "outputs": [
    {
     "data": {
      "text/html": [
       "<div>\n",
       "<style scoped>\n",
       "    .dataframe tbody tr th:only-of-type {\n",
       "        vertical-align: middle;\n",
       "    }\n",
       "\n",
       "    .dataframe tbody tr th {\n",
       "        vertical-align: top;\n",
       "    }\n",
       "\n",
       "    .dataframe thead th {\n",
       "        text-align: right;\n",
       "    }\n",
       "</style>\n",
       "<table border=\"1\" class=\"dataframe\">\n",
       "  <thead>\n",
       "    <tr style=\"text-align: right;\">\n",
       "      <th></th>\n",
       "      <th>subject_sex</th>\n",
       "      <th>violation_count</th>\n",
       "    </tr>\n",
       "  </thead>\n",
       "  <tbody>\n",
       "    <tr>\n",
       "      <th>2</th>\n",
       "      <td>male</td>\n",
       "      <td>906016</td>\n",
       "    </tr>\n",
       "    <tr>\n",
       "      <th>1</th>\n",
       "      <td>female</td>\n",
       "      <td>631911</td>\n",
       "    </tr>\n",
       "    <tr>\n",
       "      <th>0</th>\n",
       "      <td>No Information</td>\n",
       "      <td>5879</td>\n",
       "    </tr>\n",
       "  </tbody>\n",
       "</table>\n",
       "</div>"
      ],
      "text/plain": [
       "      subject_sex  violation_count\n",
       "2            male           906016\n",
       "1          female           631911\n",
       "0  No Information             5879"
      ]
     },
     "execution_count": 19,
     "metadata": {},
     "output_type": "execute_result"
    }
   ],
   "source": [
    "# Show the count of the violations committed the most for each of the genders.\n",
    "violation_by_group.groupby('subject_sex')['violation_count'].max().reset_index().sort_values(['violation_count'], ascending = False) "
   ]
  },
  {
   "cell_type": "markdown",
   "id": "bdf47040",
   "metadata": {},
   "source": [
    "### Which gender was given the most arrest, warning and citations\n",
    "Based on the analysis:\n",
    "- Males were given more of each outcomes.\n",
    "- Warnings were given out more than the other outcomes, second was citation then lastly arrests\n",
    "- Males recieved more citations and arrests than women, while women recieved more warnings "
   ]
  },
  {
   "cell_type": "code",
   "execution_count": 20,
   "id": "a98e3b98",
   "metadata": {},
   "outputs": [
    {
     "name": "stdout",
     "output_type": "stream",
     "text": [
      "Number of males and females that receieved warnings \n",
      " subject_sex\n",
      "male              1440990\n",
      "female            1005605\n",
      "No Information      10100\n",
      "Name: count, dtype: int64\n",
      "Percentage of males recorded that recieved warnings 79.03210502732139\n",
      "Percentage of females recorded that recieved warnings 80.43450091824133\n"
     ]
    }
   ],
   "source": [
    "warning = nash_df[nash_df['warning_issued'] == True]\n",
    "print('Number of males and females that receieved warnings','\\n', warning['subject_sex'].value_counts().sort_values(ascending = False))\n",
    "\n",
    "male_warned_percentage = (len(nash_df[(nash_df['subject_sex']=='male') & (nash_df['warning_issued']== True)])/len(nash_df[nash_df['subject_sex']=='male'])) * 100\n",
    "female_warned_percentage = (len(nash_df[(nash_df['subject_sex']=='female') & (nash_df['warning_issued']== True)])/len(nash_df[nash_df['subject_sex']=='female'])) * 100\n",
    "\n",
    "print('Percentage of males recorded that recieved warnings',male_warned_percentage)\n",
    "print('Percentage of females recorded that recieved warnings',female_warned_percentage)"
   ]
  },
  {
   "cell_type": "markdown",
   "id": "b01562a4",
   "metadata": {},
   "source": [
    "There is more males that was given warnings (overall), 79.03% of the recorded males were given warnings while there is only 80.43% of the recorded females."
   ]
  },
  {
   "cell_type": "code",
   "execution_count": 21,
   "id": "6cc7e9c0",
   "metadata": {
    "scrolled": true
   },
   "outputs": [
    {
     "name": "stdout",
     "output_type": "stream",
     "text": [
      "Number of males and females that receieved citations\n",
      " subject_sex\n",
      "male              422347\n",
      "female            269790\n",
      "No Information      1090\n",
      "Name: count, dtype: int64\n",
      "Percentage of males recorded that recieved citations 23.163916794685672\n",
      "Percentage of females recorded that recieved citations 21.579471067399552\n"
     ]
    }
   ],
   "source": [
    "citation = nash_df[nash_df['citation_issued'] == True]\n",
    "print('Number of males and females that receieved citations\\n', citation['subject_sex'].value_counts().sort_values(ascending = False))\n",
    "\n",
    "male_citation_percentage = (len(nash_df[(nash_df['subject_sex']=='male') & (nash_df['citation_issued']== True)])/len(nash_df[nash_df['subject_sex']=='male'])) * 100\n",
    "female_citation_percentage = (len(nash_df[(nash_df['subject_sex']=='female') & (nash_df['citation_issued']== True)])/len(nash_df[nash_df['subject_sex']=='female'])) * 100\n",
    "\n",
    "print('Percentage of males recorded that recieved citations',male_citation_percentage)\n",
    "print('Percentage of females recorded that recieved citations',female_citation_percentage)"
   ]
  },
  {
   "cell_type": "markdown",
   "id": "5bae9c56",
   "metadata": {},
   "source": [
    "There is more males that was given citations (overall), 23% of the recorded males were given citations while there is only 21.6% of the recorded females.\n"
   ]
  },
  {
   "cell_type": "code",
   "execution_count": 22,
   "id": "1fbbac56",
   "metadata": {},
   "outputs": [
    {
     "name": "stdout",
     "output_type": "stream",
     "text": [
      "Number of males and females that was arrested\n",
      " subject_sex\n",
      "male              36559\n",
      "female            13330\n",
      "No Information      178\n",
      "Name: count, dtype: int64\n",
      "Percentage of males recorded that was arrested 2.0051039408280715\n",
      "Percentage of females recorded that was arrested 1.066215757917032\n"
     ]
    }
   ],
   "source": [
    "arrested = nash_df[nash_df['arrest_made'] == True]\n",
    "print('Number of males and females that was arrested\\n', arrested['subject_sex'].value_counts().sort_values(ascending = False))\n",
    "\n",
    "male_arrest_percentage = (len(nash_df[(nash_df['subject_sex']=='male') & (nash_df['arrest_made']== True)])/len(nash_df[nash_df['subject_sex']=='male'])) * 100\n",
    "female_arrest_percentage = (len(nash_df[(nash_df['subject_sex']=='female') & (nash_df['arrest_made']== True)])/len(nash_df[nash_df['subject_sex']=='female'])) * 100\n",
    "\n",
    "print('Percentage of males recorded that was arrested',male_arrest_percentage)\n",
    "print('Percentage of females recorded that was arrested',female_arrest_percentage)"
   ]
  },
  {
   "cell_type": "markdown",
   "id": "dbfee4d0",
   "metadata": {},
   "source": [
    "There is more males that were arrested (overall), 2.01% of the recorded males were arrested while there is only 1.07% of the recorded females."
   ]
  },
  {
   "cell_type": "markdown",
   "id": "ddb8f26c",
   "metadata": {},
   "source": [
    "# Conclusion\n",
    "\n",
    "- Overall we can see that most of the observed stops were to men than women. The most common violation was due to moving traffic violation in both genders.\n",
    "- Males recieved more of each outcome compared to women \n",
    "- Majority of men and women stopped only recieved a warning, secondly was citations then arrest \n",
    "- In each of the outcomes, majority of the population of women were given warnings which was higher than the population of men recorded, while more men were given citations and arrested.\n",
    "\n",
    "# Future Work\n",
    "\n",
    "- Use data visualisation tool to look more at data provided "
   ]
  }
 ],
 "metadata": {
  "kernelspec": {
   "display_name": "Python 3 (ipykernel)",
   "language": "python",
   "name": "python3"
  },
  "language_info": {
   "codemirror_mode": {
    "name": "ipython",
    "version": 3
   },
   "file_extension": ".py",
   "mimetype": "text/x-python",
   "name": "python",
   "nbconvert_exporter": "python",
   "pygments_lexer": "ipython3",
   "version": "3.10.0"
  }
 },
 "nbformat": 4,
 "nbformat_minor": 5
}
